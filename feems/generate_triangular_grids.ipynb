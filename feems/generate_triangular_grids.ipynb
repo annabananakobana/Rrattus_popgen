{
 "cells": [
  {
   "cell_type": "code",
   "execution_count": 4,
   "id": "7b42686c-7793-4b74-8fc4-d160300676e2",
   "metadata": {
    "tags": []
   },
   "outputs": [
    {
     "name": "stdout",
     "output_type": "stream",
     "text": [
      "Done\n"
     ]
    }
   ],
   "source": [
    "# make a shapefile, triangular grid.\n",
    "from osgeo import ogr, osr\n",
    "import numpy as np\n",
    "import os\n",
    "print(\"Done\")"
   ]
  },
  {
   "cell_type": "code",
   "execution_count": null,
   "id": "47dcc604-ee8c-437f-a43a-ec96349a085a",
   "metadata": {},
   "outputs": [],
   "source": [
    "A cell size of 1.0° would create triangles roughly 110 km wide\n",
    "A cell size of 0.5° would create triangles roughly 55 km wide\n",
    "A cell size of 0.1° would create triangles roughly 11 km wide\n",
    "A cell size of 0.05° would create triangles roughly 5.5 km wide\n",
    "A cell size of 0.01° would create triangles roughly 1.1 km wide"
   ]
  },
  {
   "cell_type": "code",
   "execution_count": 6,
   "id": "3f27a390-bd8e-44b6-adb0-2d72b4f99529",
   "metadata": {
    "tags": []
   },
   "outputs": [
    {
     "name": "stdout",
     "output_type": "stream",
     "text": [
      "Shapefile bounds: xmin=167.8263475694613, xmax=169.4144164087366, ymin=-45.59320859501844, ymax=-44.49839984522502\n",
      "Creating grid with 161x129 cells...\n",
      "Processing row 0/128...\n",
      "Processing row 10/128...\n",
      "Processing row 20/128...\n",
      "Processing row 30/128...\n",
      "Processing row 40/128...\n",
      "Processing row 50/128...\n",
      "Processing row 60/128...\n",
      "Processing row 70/128...\n",
      "Processing row 80/128...\n",
      "Processing row 90/128...\n",
      "Processing row 100/128...\n",
      "Processing row 110/128...\n",
      "Processing row 120/128...\n",
      "Created triangular grid with 41377 cells at /nesi/nobackup/uoo03627/qt_rat_sequencing/feems/LakeWhakatipushapefiles/LW_triangular_grid_0.01.shp\n"
     ]
    },
    {
     "data": {
      "text/plain": [
       "'/nesi/nobackup/uoo03627/qt_rat_sequencing/feems/LakeWhakatipushapefiles/LW_triangular_grid_0.01.shp'"
      ]
     },
     "execution_count": 6,
     "metadata": {},
     "output_type": "execute_result"
    }
   ],
   "source": [
    "def create_triangular_grid_for_bounds(input_shapefile, output_shapefile, cell_size=0.05):\n",
    "    \"\"\"\n",
    "    Creates a triangular grid within the bounds of the input shapefile\n",
    "    Using WGS 1984 coordinate system (degrees)\n",
    "    \"\"\"\n",
    "    # Open the input shapefile\n",
    "    driver = ogr.GetDriverByName(\"ESRI Shapefile\")\n",
    "    dataSource = driver.Open(input_shapefile, 0)\n",
    "    \n",
    "    if dataSource is None:\n",
    "        print(f\"Could not open {input_shapefile}\")\n",
    "        return\n",
    "    \n",
    "    layer = dataSource.GetLayer()\n",
    "    \n",
    "    # Get the extent of the shapefile\n",
    "    extent = layer.GetExtent()\n",
    "    xmin, xmax, ymin, ymax = extent[0], extent[1], extent[2], extent[3]\n",
    "    print(f\"Shapefile bounds: xmin={xmin}, xmax={xmax}, ymin={ymin}, ymax={ymax}\")\n",
    "    \n",
    "    # Get the spatial reference of the input\n",
    "    spatialRef = layer.GetSpatialRef()\n",
    "    \n",
    "    # Calculate height of equilateral triangle in degrees\n",
    "    height = cell_size * np.sqrt(3) / 2\n",
    "    \n",
    "    # Create the output shapefile\n",
    "    if os.path.exists(output_shapefile):\n",
    "        driver.DeleteDataSource(output_shapefile)\n",
    "    \n",
    "    outDataSource = driver.CreateDataSource(output_shapefile)\n",
    "    outLayer = outDataSource.CreateLayer(\"triangular_grid\", spatialRef, ogr.wkbPolygon)\n",
    "    \n",
    "    # Add ID field\n",
    "    idField = ogr.FieldDefn(\"ID\", ogr.OFTInteger)\n",
    "    outLayer.CreateField(idField)\n",
    "    \n",
    "    # Generate triangles\n",
    "    cell_id = 0\n",
    "    \n",
    "    # Make the grid slightly larger to ensure coverage\n",
    "    xmin -= cell_size\n",
    "    ymin -= height\n",
    "    xmax += cell_size\n",
    "    ymax += height\n",
    "    \n",
    "    # Number of cells in each direction\n",
    "    nx = int((xmax - xmin) / cell_size) + 1\n",
    "    ny = int((ymax - ymin) / height) + 1\n",
    "    \n",
    "    print(f\"Creating grid with {nx}x{ny} cells...\")\n",
    "    \n",
    "    # Create a consistent grid of equilateral triangles\n",
    "    for i in range(ny):\n",
    "        if i % 10 == 0:\n",
    "            print(f\"Processing row {i}/{ny-1}...\")\n",
    "            \n",
    "        # Offset every other row to create proper equilateral triangles\n",
    "        row_offset = (i % 2) * (cell_size / 2)\n",
    "        \n",
    "        for j in range(nx):\n",
    "            # Base coordinates (with offset for every other row)\n",
    "            x = xmin + j * cell_size + row_offset\n",
    "            y = ymin + i * height\n",
    "            \n",
    "            # Create upward-pointing triangle\n",
    "            ring = ogr.Geometry(ogr.wkbLinearRing)\n",
    "            ring.AddPoint(x, y)\n",
    "            ring.AddPoint(x + cell_size, y)\n",
    "            ring.AddPoint(x + cell_size/2, y + height)\n",
    "            ring.CloseRings()\n",
    "            \n",
    "            poly = ogr.Geometry(ogr.wkbPolygon)\n",
    "            poly.AddGeometry(ring)\n",
    "            \n",
    "            # Add to layer\n",
    "            outFeature = ogr.Feature(outLayer.GetLayerDefn())\n",
    "            outFeature.SetGeometry(poly)\n",
    "            outFeature.SetField(\"ID\", cell_id)\n",
    "            outLayer.CreateFeature(outFeature)\n",
    "            outFeature = None\n",
    "            cell_id += 1\n",
    "            \n",
    "            # Create downward-pointing triangle (if not on the bottom row)\n",
    "            if i > 0:\n",
    "                ring = ogr.Geometry(ogr.wkbLinearRing)\n",
    "                ring.AddPoint(x, y)\n",
    "                ring.AddPoint(x + cell_size/2, y - height)\n",
    "                ring.AddPoint(x - cell_size/2, y - height)\n",
    "                ring.CloseRings()\n",
    "                \n",
    "                poly = ogr.Geometry(ogr.wkbPolygon)\n",
    "                poly.AddGeometry(ring)\n",
    "                \n",
    "                # Add to layer\n",
    "                outFeature = ogr.Feature(outLayer.GetLayerDefn())\n",
    "                outFeature.SetGeometry(poly)\n",
    "                outFeature.SetField(\"ID\", cell_id)\n",
    "                outLayer.CreateFeature(outFeature)\n",
    "                outFeature = None\n",
    "                cell_id += 1\n",
    "    \n",
    "    # Clean up\n",
    "    dataSource = None\n",
    "    outDataSource = None\n",
    "    \n",
    "    print(f\"Created triangular grid with {cell_id} cells at {output_shapefile}\")\n",
    "    return output_shapefile\n",
    "\n",
    "# Example usage\n",
    "input_shapefile = \"/nesi/nobackup/uoo03627/qt_rat_sequencing/feems/LakeWhakatipushapefiles/POLYGON.shp\"\n",
    "output_shapefile = \"/nesi/nobackup/uoo03627/qt_rat_sequencing/feems/LakeWhakatipushapefiles/LW_triangular_grid_0.01.shp\"\n",
    "\n",
    "# For WGS84 (degrees), 0.5 degrees is about 55 km at NZ's latitude\n",
    "create_triangular_grid_for_bounds(input_shapefile, output_shapefile, cell_size=0.01)"
   ]
  },
  {
   "cell_type": "code",
   "execution_count": null,
   "id": "57f29d8b-0805-4910-9852-3dcb3a9fd6e2",
   "metadata": {},
   "outputs": [],
   "source": []
  }
 ],
 "metadata": {
  "kernelspec": {
   "display_name": "feems_env",
   "language": "python",
   "name": "feems_env"
  },
  "language_info": {
   "codemirror_mode": {
    "name": "ipython",
    "version": 3
   },
   "file_extension": ".py",
   "mimetype": "text/x-python",
   "name": "python",
   "nbconvert_exporter": "python",
   "pygments_lexer": "ipython3",
   "version": "3.8.3"
  }
 },
 "nbformat": 4,
 "nbformat_minor": 5
}
